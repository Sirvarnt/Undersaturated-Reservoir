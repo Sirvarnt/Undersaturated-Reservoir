{
 "cells": [
  {
   "cell_type": "markdown",
   "metadata": {},
   "source": [
    "# Profitable App Profiles for the App Store and Google Play Markets\n",
    "\n",
    "## Introduction\n",
    "Our aim in this project is to find mobile app profiles that are profitable for the App Store and Google Play markets. We're working as data analysts for a company that builds Android and iOS mobile apps, and our job is to enable our team of developers to make data-driven decisions with respect to the kind of apps they build.\n",
    "\n",
    "At our company, we only build apps that are free to download and install, and our main source of revenue consists of in-app ads. This means that our revenue for any given app is mostly influenced by the number of users that use our app. Our goal for this project is to analyze data to help our developers understand what kinds of apps are likely to attract more users."
   ]
  },
  {
   "cell_type": "code",
   "execution_count": null,
   "metadata": {},
   "outputs": [],
   "source": [
    "from csv import reader\n",
    "ios_apps = list(reader(open('AppleStore.csv')))\n",
    "android_apps = list(reader(open('googleplaystore.csv')))\n",
    "\n",
    "ios_apps_header = ios_apps[0]\n",
    "ios_apps_dataset = ios_apps[1:]\n",
    "\n",
    "android_apps_header = android_apps[0]\n",
    "android_apps_dataset = android_apps[1:]\n",
    "\n",
    "print(ios_apps_dataset[:6])\n",
    "print('\\n')\n",
    "print(android_apps_dataset[:6])\n"
   ]
  },
  {
   "cell_type": "markdown",
   "metadata": {},
   "source": [
    "The explore_data() function takes in four parameters:\n",
    "\n",
    "- `dataset`, which will be a list of lists\n",
    "- `start` and `end`, which will both be integers and represent the starting and the ending indices of a slice from the dataset\n",
    "- `rows_and_columns`, which will be a Boolean and has False as a default argument\n"
   ]
  },
  {
   "cell_type": "code",
   "execution_count": null,
   "metadata": {},
   "outputs": [],
   "source": [
    "def explore_data(dataset, start, end, rows_and_columns=False):\n",
    "    dataset_slice = dataset[start:end]    \n",
    "    for row in dataset_slice:\n",
    "        print(row)\n",
    "        print('\\n')\n",
    "\n",
    "    if rows_and_columns:\n",
    "        print('Number of rows:', len(dataset))\n",
    "        print('Number of columns:', len(dataset[0]))"
   ]
  },
  {
   "cell_type": "markdown",
   "metadata": {},
   "source": [
    "Printing the first few rows of the App Store and Google Play datasets."
   ]
  },
  {
   "cell_type": "code",
   "execution_count": null,
   "metadata": {},
   "outputs": [],
   "source": [
    "print(explore_data(ios_apps_dataset, 0, 5, rows_and_columns=True))\n",
    "print('\\n')\n",
    "print(explore_data(android_apps_dataset, 0, 5, rows_and_columns=True))"
   ]
  },
  {
   "cell_type": "markdown",
   "metadata": {},
   "source": [
    "Printing the column names of the App Store and Google Play datasets.\n",
    "\n",
    "[App Store column description](http://www.kaggle.com/datasets/ramamet4/app-store-apple-data-set-10k-apps)\n",
    "\n",
    "[Google Play column description](https://www.kaggle.com/datasets/lava18/google-play-store-apps?resource=download)"
   ]
  },
  {
   "cell_type": "code",
   "execution_count": null,
   "metadata": {},
   "outputs": [],
   "source": [
    "print(ios_apps_header)\n",
    "print('\\n')\n",
    "print(android_apps_header)"
   ]
  },
  {
   "cell_type": "markdown",
   "metadata": {},
   "source": [
    "## Data Cleaning\n",
    "This involes removing or correcting wrong data, removing duplicate data, and modifying the data to fit the purpose of our analysis."
   ]
  },
  {
   "cell_type": "markdown",
   "metadata": {},
   "source": [
    "1. check for missing columns in Google Play dataset"
   ]
  },
  {
   "cell_type": "code",
   "execution_count": null,
   "metadata": {
    "scrolled": true
   },
   "outputs": [],
   "source": [
    "print(android_apps_header)\n",
    "\n",
    "for row in android_apps_dataset:\n",
    "    if len(row) != len(android_apps_header):\n",
    "        print(row)\n",
    "        print(android_apps_dataset.index(row))\n",
    "        "
   ]
  },
  {
   "cell_type": "markdown",
   "metadata": {},
   "source": [
    "We can see that the`Category` column is missing and there is no data in the `Genres` column, rather it is just left with whitespace.\n",
    "\n",
    "As a result, we delete this column to get rid of the errors."
   ]
  },
  {
   "cell_type": "code",
   "execution_count": null,
   "metadata": {},
   "outputs": [],
   "source": [
    "del android_apps_dataset[10472]"
   ]
  },
  {
   "cell_type": "markdown",
   "metadata": {},
   "source": [
    "2. check for missing columns in App Store dataset"
   ]
  },
  {
   "cell_type": "code",
   "execution_count": null,
   "metadata": {},
   "outputs": [],
   "source": [
    "print(ios_apps_header)\n",
    "\n",
    "for row in ios_apps_dataset:\n",
    "    if len(row) != len(ios_apps_header):\n",
    "        print(row)\n",
    "        print(ios_apps_dataset.index(row))\n",
    "        "
   ]
  },
  {
   "cell_type": "markdown",
   "metadata": {},
   "source": [
    "There are no missing column values in the App Store dataset"
   ]
  },
  {
   "cell_type": "markdown",
   "metadata": {},
   "source": [
    "3. check for duplicate entries in the Google Play dataset"
   ]
  },
  {
   "cell_type": "code",
   "execution_count": null,
   "metadata": {},
   "outputs": [],
   "source": [
    "android_duplicate_apps = []\n",
    "android_unique_apps = []\n",
    "\n",
    "for row in android_apps_dataset:\n",
    "    app_name = row[0]\n",
    "    if app_name in android_unique_apps:\n",
    "        android_duplicate_apps.append(app_name)\n",
    "    else:\n",
    "        android_unique_apps.append(app_name)\n",
    "        \n",
    "print('Number of duplicate apps:', len(android_duplicate_apps))\n",
    "print('Number of unique apps:', len(android_unique_apps))\n",
    "print('\\n')\n",
    "print('Examples of duplicate apps:', android_duplicate_apps[:15])"
   ]
  },
  {
   "cell_type": "code",
   "execution_count": null,
   "metadata": {},
   "outputs": [],
   "source": []
  },
  {
   "cell_type": "markdown",
   "metadata": {},
   "source": [
    "Next, we select the criterion for removing duplicates"
   ]
  },
  {
   "cell_type": "code",
   "execution_count": null,
   "metadata": {},
   "outputs": [],
   "source": [
    "print(android_apps_header)\n",
    "\n",
    "for row in android_apps_dataset:\n",
    "    app_name = row[0]\n",
    "    if app_name == 'Instagram':\n",
    "        print(row)"
   ]
  },
  {
   "cell_type": "markdown",
   "metadata": {},
   "source": [
    "We can see that the duplicates for `Instagram` differ in the `Reviews` column, which tells us the row with the highest number of Reviews must be the latest entry."
   ]
  },
  {
   "cell_type": "markdown",
   "metadata": {},
   "source": [
    "Now, we will remove the duplicate entries from the Google Play dataset."
   ]
  },
  {
   "cell_type": "code",
   "execution_count": null,
   "metadata": {},
   "outputs": [],
   "source": [
    "reviews_max = {}\n",
    "\n",
    "for row in android_apps_dataset:\n",
    "    name = row[0]\n",
    "    n_reviews = float(row[3])\n",
    "    if name in reviews_max and reviews_max[name] < n_reviews:\n",
    "        reviews_max[name] = n_reviews\n",
    "        \n",
    "    elif name not in reviews_max:\n",
    "        reviews_max[name] = n_reviews\n",
    "        \n",
    "print(len(reviews_max))\n",
    "print('\\n')\n",
    "print(reviews_max)\n",
    "    "
   ]
  },
  {
   "cell_type": "markdown",
   "metadata": {},
   "source": [
    "From the code above, we see that there are 9659 apps with the latest review count and without duplicates."
   ]
  },
  {
   "cell_type": "markdown",
   "metadata": {},
   "source": [
    "Next, we will use the `reviews_max` dictionary created above to remove the duplicate rows:"
   ]
  },
  {
   "cell_type": "code",
   "execution_count": null,
   "metadata": {},
   "outputs": [],
   "source": [
    "android_clean = []\n",
    "already_added = []\n",
    "\n",
    "for row in android_apps_dataset:\n",
    "    name = row[0]\n",
    "    n_reviews = float(row[3])\n",
    "    if n_reviews == reviews_max[name] and name not in already_added:\n",
    "        android_clean.append(row)\n",
    "        already_added.append(name)\n",
    "        \n",
    "print(len(android_clean))\n",
    "print(android_clean)\n",
    "print(len(already_added))"
   ]
  },
  {
   "cell_type": "markdown",
   "metadata": {},
   "source": [
    "In the code above, we created two lists `android_clean` to store the clean Google Play dataset without duplicates and `already_added` to store the names of the apps in the cleaned dataset.\n",
    "\n",
    "We needed to add this supplementary condition (`not in` **already_added**) to account for those cases where the highest number of reviews of a duplicate app is the same for more than one entry."
   ]
  },
  {
   "cell_type": "markdown",
   "metadata": {},
   "source": [
    "Next, we explore the datasets to remove apps that are not in `English`"
   ]
  },
  {
   "cell_type": "code",
   "execution_count": null,
   "metadata": {
    "scrolled": true
   },
   "outputs": [],
   "source": [
    "def english(string):\n",
    "    for character in string:\n",
    "        if ord(character) > 127:\n",
    "            return False\n",
    "        \n",
    "    return True\n",
    "\n",
    "print(english('Instagram'))\n",
    "print(english('爱奇艺PPS -《欢乐颂2》电视剧热播'))\n",
    "print(english('Docs To Go™ Free Office Suite'))\n",
    "print(english('Instachat 😜'))"
   ]
  },
  {
   "cell_type": "markdown",
   "metadata": {},
   "source": [
    "We can see from the code above that some English apps with emojis or non-alphabet characters in their names, like `TM`, will be incorrectly labeled as non-English apps.\n",
    "\n",
    "We need to refilter the dataset to accommodate the English apps that have these special characters.\n"
   ]
  },
  {
   "cell_type": "code",
   "execution_count": null,
   "metadata": {},
   "outputs": [],
   "source": [
    "def english(string):\n",
    "    non_ascii = 0\n",
    "    \n",
    "    for character in string:\n",
    "        if ord(character) > 127:\n",
    "            non_ascii += 1\n",
    "            \n",
    "    if non_ascii > 3:\n",
    "        return False\n",
    "    else:\n",
    "        return True\n",
    "        \n",
    "print(english('Docs To Go™™™ Free Office Suite'))"
   ]
  },
  {
   "cell_type": "code",
   "execution_count": null,
   "metadata": {},
   "outputs": [],
   "source": [
    "android_clean_english = []\n",
    "\n",
    "for row in android_clean:\n",
    "    android_name = row[0]\n",
    "    \n",
    "    if english(android_name) == True:\n",
    "        android_clean_english.append(row)\n",
    "\n",
    "print(len(android_clean_english))       \n",
    "print(android_clean_english)"
   ]
  },
  {
   "cell_type": "code",
   "execution_count": null,
   "metadata": {},
   "outputs": [],
   "source": [
    "ios_clean_english = []\n",
    "\n",
    "for row in ios_apps_dataset:\n",
    "    ios_name = row[1]\n",
    "    \n",
    "    if english(ios_name) == True:\n",
    "        ios_clean_english.append(row)\n",
    "\n",
    "print(len(ios_clean_english))       \n",
    "print(ios_clean_english)"
   ]
  },
  {
   "cell_type": "markdown",
   "metadata": {},
   "source": [
    "Now, we're going to isolate the `Free` apps in both datasets"
   ]
  },
  {
   "cell_type": "code",
   "execution_count": null,
   "metadata": {
    "scrolled": false
   },
   "outputs": [],
   "source": [
    "print(android_apps_header)\n",
    "print('\\n')\n",
    "print(ios_apps_header)"
   ]
  },
  {
   "cell_type": "code",
   "execution_count": null,
   "metadata": {},
   "outputs": [],
   "source": [
    "android_free = []\n",
    "\n",
    "for row in android_clean_english:\n",
    "    type = row[6]\n",
    "    \n",
    "    if type == 'Free':\n",
    "        android_free.append(row)\n",
    "        \n",
    "print(len(android_free))\n",
    "print(android_free)"
   ]
  },
  {
   "cell_type": "code",
   "execution_count": null,
   "metadata": {},
   "outputs": [],
   "source": [
    "ios_free = []\n",
    "\n",
    "for row in ios_clean_english:\n",
    "    price = float(row[4])\n",
    "    \n",
    "    if price == 0.0:\n",
    "        ios_free.append(row)\n",
    "        \n",
    "print(len(ios_free))\n",
    "print(ios_free)"
   ]
  },
  {
   "cell_type": "markdown",
   "metadata": {},
   "source": [
    "Our goal is to determine the kinds of apps that are likely to attract more users because the number of people using our apps affect our revenue.\n",
    "\n",
    "To minimize risks and overhead, our validation strategy for an app idea has three steps:\n",
    "\n",
    "1. Build a minimal Android version of the app, and add it to Google Play.\n",
    "2. If the app has a good response from users, we develop it further.\n",
    "3. If the app is profitable after six months, we build an iOS version of the app and add it to the App Store.\n"
   ]
  },
  {
   "cell_type": "markdown",
   "metadata": {},
   "source": [
    "We'll begin the analysis by determining the most common genres for each market.\n",
    "\n",
    "We will do this by building frequency tables for the `Category` and `Genres` columns of the Google Play dataset and the `prime_genre` column of the App Store dataset."
   ]
  },
  {
   "cell_type": "code",
   "execution_count": null,
   "metadata": {},
   "outputs": [],
   "source": [
    "def freq_table(dataset, index):\n",
    "    freq_dict = {}\n",
    "    total = 0\n",
    "\n",
    "    for row in dataset:\n",
    "        total += 1\n",
    "        column = row[index]\n",
    "        if column not in freq_dict:\n",
    "            freq_dict[column] = 1\n",
    "        else:\n",
    "            freq_dict[column] += 1\n",
    "            \n",
    "    for column in freq_dict:\n",
    "        freq_dict[column] /= total\n",
    "        freq_dict[column] *= 100\n",
    "            \n",
    "    return freq_dict\n",
    "\n",
    "freq_table(android_free, 1)"
   ]
  },
  {
   "cell_type": "markdown",
   "metadata": {},
   "source": [
    " We'll need to build a second function that can help us display the entries in the frequency table in descending order.\n",
    " \n",
    "This function will transform the frequency table into a list of tuples, then sort the list in a descending order"
   ]
  },
  {
   "cell_type": "code",
   "execution_count": null,
   "metadata": {},
   "outputs": [],
   "source": [
    "def display_table(dataset, index):\n",
    "    table = freq_table(dataset, index)\n",
    "    table_display = []\n",
    "    for key in table:\n",
    "        key_val_as_tuple = (table[key], key)\n",
    "        table_display.append(key_val_as_tuple)\n",
    "\n",
    "    table_sorted = sorted(table_display, reverse = True)\n",
    "    for entry in table_sorted:\n",
    "        print(entry[1], ':', entry[0])"
   ]
  },
  {
   "cell_type": "markdown",
   "metadata": {},
   "source": [
    "## `prime_genre` frequency table analysis (App Store Dataset)\n",
    "\n",
    "We can see that among the free English apps, more than a half (58.16%) are games. Entertainment apps are close to 8%, followed by photo and video apps, which are close to 5%. Only 3.66% of the apps are designed for education, followed by social networking apps which amount for 3.29% of the apps in our data set.\n",
    "\n",
    "The general impression is that App Store (at least the part containing free English apps) is dominated by apps that are designed for fun (games, entertainment, photo and video, social networking, sports, music, etc.), while apps with practical purposes (education, shopping, utilities, productivity, lifestyle, etc.) are more rare. However, the fact that fun apps are the most numerous doesn't also imply that they also have the greatest number of users — the demand might not be the same as the offer."
   ]
  },
  {
   "cell_type": "code",
   "execution_count": null,
   "metadata": {},
   "outputs": [],
   "source": [
    "print('APP STORE - PRIME_GENRE')\n",
    "print('\\n')\n",
    "display_table(ios_free, 11)"
   ]
  },
  {
   "cell_type": "markdown",
   "metadata": {},
   "source": [
    "## `Category` frequency table analysis (Google Play Store Dataset)\n",
    "\n",
    "The landscape seems significantly different on Google Play: there are not that many apps designed for fun, and it seems that a good number of apps are designed for practical purposes (family, tools, business, lifestyle, productivity, etc.). However, if we investigate this further, we can see that the family category (which accounts for almost 19% of the apps) means mostly games for kids."
   ]
  },
  {
   "cell_type": "code",
   "execution_count": null,
   "metadata": {},
   "outputs": [],
   "source": [
    "print('GOOGLE PLAY STORE - CATEGORY')\n",
    "print('\\n')\n",
    "display_table(android_free, 1)"
   ]
  },
  {
   "cell_type": "markdown",
   "metadata": {},
   "source": [
    "## `Genres` frequency table analysis (Google Play Store Dataset)\n",
    "\n",
    "Practical apps seem to have a better representation on Google Play compared to App Store. This is confirmed by the frequency table we see for the Genres column."
   ]
  },
  {
   "cell_type": "code",
   "execution_count": null,
   "metadata": {},
   "outputs": [],
   "source": [
    "print('GOOGLE PLAY STORE - GENRES')\n",
    "print('\\n')\n",
    "display_table(android_free, 9)"
   ]
  },
  {
   "cell_type": "markdown",
   "metadata": {},
   "source": [
    "The difference between the `Genres` and the `Category` columns is not crystal clear, but one thing we can notice is that the `Genres` column is much more granular (it has more categories). \n",
    "\n",
    "We're only looking for the bigger picture at the moment, so we'll only work with the `Category` column moving forward."
   ]
  },
  {
   "cell_type": "markdown",
   "metadata": {},
   "source": [
    "Up to this point, we found that the App Store is dominated by apps designed for fun, while Google Play shows a more balanced landscape of both practical and for-fun apps. \n",
    "\n",
    "Now we'd like to get an idea about the kind of apps that have most users."
   ]
  },
  {
   "cell_type": "markdown",
   "metadata": {},
   "source": [
    "One way to find out what genres are the most popular (have the most users) is to calculate the average number of installs for each app genre. For the Google Play data set, we can find this information in the `Installs` column, but for the App Store data set this information is missing. \n",
    "As a workaround, we'll take the total number of user ratings as a proxy, which we can find in the `rating_count_tot` column."
   ]
  },
  {
   "cell_type": "markdown",
   "metadata": {},
   "source": [
    "## App Store"
   ]
  },
  {
   "cell_type": "code",
   "execution_count": null,
   "metadata": {
    "scrolled": true
   },
   "outputs": [],
   "source": [
    "ios_genre_freq = freq_table(ios_free, 11)\n",
    "print(ios_genre_freq)"
   ]
  },
  {
   "cell_type": "code",
   "execution_count": null,
   "metadata": {},
   "outputs": [],
   "source": [
    "for genre in ios_genre_freq:\n",
    "    total = 0\n",
    "    len_genre = 0\n",
    "    \n",
    "    for row in ios_free:\n",
    "        genre_app = row[11]\n",
    "        if genre_app == genre:\n",
    "            total += float(row[5])\n",
    "            len_genre += 1\n",
    "            \n",
    "    ios_avg_user_rating = total / len_genre\n",
    "    print(genre, ':', ios_avg_user_rating)\n",
    "    \n",
    "    "
   ]
  },
  {
   "cell_type": "markdown",
   "metadata": {},
   "source": [
    "We observe that in the App Store, on average, `Navigation` apps have the highest number of user reviews (86090).\n",
    "\n",
    "Further analysis shows that the number of `Navigation` user reviews is heavily influenced by Waze and Google Maps, which have close to half a million user reviews together."
   ]
  },
  {
   "cell_type": "code",
   "execution_count": null,
   "metadata": {},
   "outputs": [],
   "source": [
    "for row in ios_free:\n",
    "    app_name = row[1]\n",
    "    genre = row[11]\n",
    "    user_ratings = row[5]\n",
    "    if genre == 'Navigation':\n",
    "        print(app_name, ':', user_ratings)"
   ]
  },
  {
   "cell_type": "markdown",
   "metadata": {},
   "source": [
    "The same pattern applies to `Social Networking` apps, where the average number is heavily influenced by a few giants like Facebook, Pinterest, Skype, etc."
   ]
  },
  {
   "cell_type": "code",
   "execution_count": null,
   "metadata": {},
   "outputs": [],
   "source": [
    "for row in ios_free:\n",
    "    app_name = row[1]\n",
    "    genre = row[11]\n",
    "    user_ratings = row[5]\n",
    "    if genre == 'Social Networking':\n",
    "        print(app_name, ':', user_ratings)"
   ]
  },
  {
   "cell_type": "markdown",
   "metadata": {},
   "source": [
    "Same applies to `Music` apps, where a few big players like Pandora, Spotify, and Shazam heavily influence the average number."
   ]
  },
  {
   "cell_type": "code",
   "execution_count": null,
   "metadata": {},
   "outputs": [],
   "source": [
    "for row in ios_free:\n",
    "    app_name = row[1]\n",
    "    genre = row[11]\n",
    "    user_ratings = row[5]\n",
    "    if genre == 'Music':\n",
    "        print(app_name, ':', user_ratings)"
   ]
  },
  {
   "cell_type": "markdown",
   "metadata": {},
   "source": [
    "This also applies to `Reference` apps, where the Bible and Dictionary.com skew up the average rating"
   ]
  },
  {
   "cell_type": "code",
   "execution_count": null,
   "metadata": {},
   "outputs": [],
   "source": [
    "for row in ios_free:\n",
    "    app_name = row[1]\n",
    "    genre = row[11]\n",
    "    user_ratings = row[5]\n",
    "    if genre == 'Reference':\n",
    "        print(app_name, ':', user_ratings)"
   ]
  },
  {
   "cell_type": "markdown",
   "metadata": {},
   "source": [
    "However, this niche seems to show some potential. One thing we could do is take another popular book and turn it into an app where we could add different features besides the raw version of the book. This might include daily quotes from the book, an audio version of the book, quizzes about the book, etc. On top of that, we could also embed a dictionary within the app, so users don't need to exit our app to look up words in an external app.\n",
    "\n",
    "This idea seems to fit well with the fact that the App Store is dominated by for-fun apps. This suggests the market might be a bit saturated with for-fun apps, which means a practical app might have more of a chance to stand out among the huge number of apps on the App Store."
   ]
  },
  {
   "cell_type": "markdown",
   "metadata": {},
   "source": [
    "## Google Play Store"
   ]
  },
  {
   "cell_type": "code",
   "execution_count": null,
   "metadata": {},
   "outputs": [],
   "source": [
    "android_category_freq = freq_table(android_free, 1)\n",
    "print(android_category_freq)"
   ]
  },
  {
   "cell_type": "code",
   "execution_count": null,
   "metadata": {},
   "outputs": [],
   "source": [
    "for category in android_category_freq:\n",
    "    total = 0\n",
    "    len_category = 0\n",
    "    \n",
    "    for row in android_free:\n",
    "        category_app = row[1]\n",
    "        installs = float(((row[5]).replace('+', '')).replace(',', ''))\n",
    "        if category_app == category:\n",
    "            total += installs\n",
    "            len_category += 1\n",
    "            \n",
    "    android_avg_installs = total / len_category\n",
    "    print(category, ':', android_avg_installs)\n",
    "        "
   ]
  },
  {
   "cell_type": "markdown",
   "metadata": {},
   "source": [
    "On average, `COMMUNICATION` apps have the most installs: 38,456,119."
   ]
  },
  {
   "cell_type": "code",
   "execution_count": null,
   "metadata": {},
   "outputs": [],
   "source": [
    "for row in android_free:\n",
    "    if row[1] == 'COMMUNICATION':\n",
    "        print(row[0], ':', row[5])"
   ]
  },
  {
   "cell_type": "markdown",
   "metadata": {},
   "source": [
    "The number of installs for `COMMUNICATION` apps is heavily skewed up by a few apps that have over one billion installs (WhatsApp, Facebook Messenger, Skype, Google Chrome, Gmail, and Hangouts), and a few others with over 100 and 500 million installs:"
   ]
  },
  {
   "cell_type": "code",
   "execution_count": null,
   "metadata": {},
   "outputs": [],
   "source": [
    "for row in android_free:\n",
    "    if row[1] == 'COMMUNICATION' and (row[5] == '1,000,000,000+'\n",
    "                                      or row[5] == '500,000,000+'\n",
    "                                      or row[5] == '100,000,000+'):\n",
    "        print(row[0], ':', row[5])"
   ]
  },
  {
   "cell_type": "markdown",
   "metadata": {},
   "source": [
    "If we removed all the communication apps that have over 100 million installs, the average would be reduced roughly ten times:\n",
    "\n",
    "COMMUNICATION: 38,456,119 vs 3,603,485"
   ]
  },
  {
   "cell_type": "code",
   "execution_count": null,
   "metadata": {},
   "outputs": [],
   "source": [
    "under_100_m = []\n",
    "\n",
    "for row in android_free:\n",
    "    n_installs = float(((row[5]).replace('+', '')).replace(',', ''))\n",
    "    if row[1] == 'COMMUNICATION' and n_installs < 100000000:\n",
    "        under_100_m.append(n_installs)\n",
    "        \n",
    "sum(under_100_m) / len(under_100_m)"
   ]
  },
  {
   "cell_type": "markdown",
   "metadata": {},
   "source": [
    "We see the same pattern for the video players category, which is the runner-up.\n"
   ]
  },
  {
   "cell_type": "code",
   "execution_count": null,
   "metadata": {},
   "outputs": [],
   "source": [
    "for row in android_free:\n",
    "    if row[1] == 'VIDEO_PLAYERS' and (row[5] == '1,000,000,000+'\n",
    "                                      or row[5] == '500,000,000+'\n",
    "                                      or row[5] == '100,000,000+'):\n",
    "        print(row[0], ':', row[5])"
   ]
  },
  {
   "cell_type": "markdown",
   "metadata": {},
   "source": [
    "The market is dominated by apps like Youtube, Google Play Movies & TV, or MX Player.\n",
    "\n",
    "VIDEO_PLAYERS: 24,727,872 vs 5,544,878"
   ]
  },
  {
   "cell_type": "code",
   "execution_count": null,
   "metadata": {},
   "outputs": [],
   "source": [
    "under_100_m = []\n",
    "\n",
    "for row in android_free:\n",
    "    n_installs = float(((row[5]).replace('+', '')).replace(',', ''))\n",
    "    if row[1] == 'VIDEO_PLAYERS' and n_installs < 100000000:\n",
    "        under_100_m.append(n_installs)\n",
    "        \n",
    "sum(under_100_m) / len(under_100_m)"
   ]
  },
  {
   "cell_type": "markdown",
   "metadata": {},
   "source": [
    "The pattern is repeated for `SOCIAL` apps where we have giants like Facebook, Instagram, Google+, etc."
   ]
  },
  {
   "cell_type": "code",
   "execution_count": null,
   "metadata": {},
   "outputs": [],
   "source": [
    "for row in android_free:\n",
    "    if row[1] == 'SOCIAL' and (row[5] == '1,000,000,000+'\n",
    "                                      or row[5] == '500,000,000+'\n",
    "                                      or row[5] == '100,000,000+'):\n",
    "        print(row[0], ':', row[5])"
   ]
  },
  {
   "cell_type": "code",
   "execution_count": null,
   "metadata": {},
   "outputs": [],
   "source": [
    "under_100_m = []\n",
    "\n",
    "for row in android_free:\n",
    "    n_installs = float(((row[5]).replace('+', '')).replace(',', ''))\n",
    "    if row[1] == 'SOCIAL' and n_installs < 100000000:\n",
    "        under_100_m.append(n_installs)\n",
    "        \n",
    "sum(under_100_m) / len(under_100_m)"
   ]
  },
  {
   "cell_type": "markdown",
   "metadata": {},
   "source": [
    "SOCIAL: 23,253,652 vs 3,084,582"
   ]
  },
  {
   "cell_type": "markdown",
   "metadata": {},
   "source": [
    "**Again, the main concern is that these app genres might seem more popular than they really are. Moreover, these niches seem to be dominated by a few giants who are hard to compete against.**"
   ]
  },
  {
   "cell_type": "markdown",
   "metadata": {},
   "source": [
    "The `GAME` genre seems pretty popular, but previously we found out this part of the market seems a bit saturated, so we'd like to come up with a different app recommendation if possible."
   ]
  },
  {
   "cell_type": "code",
   "execution_count": null,
   "metadata": {},
   "outputs": [],
   "source": [
    "for row in android_free:\n",
    "    if row[1] == 'GAME' and (row[5] == '1,000,000,000+'\n",
    "                                      or row[5] == '500,000,000+'\n",
    "                                      or row[5] == '100,000,000+'):\n",
    "        print(row[0], ':', row[5])"
   ]
  },
  {
   "cell_type": "code",
   "execution_count": null,
   "metadata": {},
   "outputs": [],
   "source": [
    "under_100_m = []\n",
    "\n",
    "for row in android_free:\n",
    "    n_installs = float(((row[5]).replace('+', '')).replace(',', ''))\n",
    "    if row[1] == 'GAME' and n_installs < 100000000:\n",
    "        under_100_m.append(n_installs)\n",
    "        \n",
    "sum(under_100_m) / len(under_100_m)"
   ]
  },
  {
   "cell_type": "markdown",
   "metadata": {},
   "source": [
    "The `BOOKS_AND_REFERENCE` genre looks fairly popular as well, with an average number of installs of 8,767,811."
   ]
  },
  {
   "cell_type": "code",
   "execution_count": null,
   "metadata": {},
   "outputs": [],
   "source": [
    "for row in android_free:\n",
    "    if row[1] == 'BOOKS_AND_REFERENCE':\n",
    "        print(row[0], ':', row[5])"
   ]
  },
  {
   "cell_type": "markdown",
   "metadata": {},
   "source": [
    "The book and reference genre includes a variety of apps: software for processing and reading ebooks, various collections of libraries, dictionaries, tutorials on programming or languages, etc. It seems there's still a small number of extremely popular apps that skew the average:"
   ]
  },
  {
   "cell_type": "code",
   "execution_count": null,
   "metadata": {},
   "outputs": [],
   "source": [
    "for row in android_free:\n",
    "    if row[1] == 'BOOKS_AND_REFERENCE' and (row[5] == '1,000,000,000+'\n",
    "                                      or row[5] == '500,000,000+'\n",
    "                                      or row[5] == '100,000,000+'):\n",
    "        print(row[0], ':', row[5])"
   ]
  },
  {
   "cell_type": "markdown",
   "metadata": {},
   "source": [
    "However, it looks like there are only a few very popular apps, so this market still shows potential."
   ]
  },
  {
   "cell_type": "markdown",
   "metadata": {},
   "source": [
    "**We could get some app ideas based on the kind of apps that are somewhere in the middle in terms of popularity (between 1,000,000 and 100,000,000 downloads):**"
   ]
  },
  {
   "cell_type": "code",
   "execution_count": null,
   "metadata": {},
   "outputs": [],
   "source": [
    "for row in android_free:\n",
    "    if row[1] == 'BOOKS_AND_REFERENCE' and (row[5] == '1,000,000+'\n",
    "                                      or row[5] == '5,000,000+' \n",
    "                                      or row[5] == '10,000,000+'\n",
    "                                      or row[5] == '50,000,000+'):\n",
    "        print(row[0], ':', row[5])"
   ]
  },
  {
   "cell_type": "markdown",
   "metadata": {},
   "source": [
    "## Insights\n",
    "\n",
    "This niche seems to be dominated by software for processing and reading ebooks, as well as various collections of libraries and dictionaries, so it's probably not a good idea to build similar apps since there'll be some significant competition.\n",
    "\n",
    "We also notice there are quite a few apps built around the book Quran, which suggests that building an app around a popular book can be profitable. It seems that taking a popular book (perhaps a more recent book) and turning it into an app could be profitable for both the Google Play and the App Store markets.\n",
    "\n",
    "However, it looks like the market is already full of libraries, so we need to add some special features besides the raw version of the book. This might include daily quotes from the book, an audio version of the book, quizzes on the book, a forum where people can discuss the book, etc."
   ]
  },
  {
   "cell_type": "markdown",
   "metadata": {},
   "source": [
    "# Conclusion\n",
    "\n",
    "In this project, we analyzed data about the App Store and Google Play mobile apps with the goal of recommending an app profile that can be profitable for both markets.\n",
    "\n",
    "We concluded that taking a popular book (perhaps a more recent book) and turning it into an app could be profitable for both the Google Play and the App Store markets. The markets are already full of libraries, so we need to add some special features besides the raw version of the book. This might include daily quotes from the book, an audio version of the book, quizzes on the book, a forum where people can discuss the book, etc."
   ]
  }
 ],
 "metadata": {
  "kernelspec": {
   "display_name": "Python 3",
   "language": "python",
   "name": "python3"
  },
  "language_info": {
   "codemirror_mode": {
    "name": "ipython",
    "version": 3
   },
   "file_extension": ".py",
   "mimetype": "text/x-python",
   "name": "python",
   "nbconvert_exporter": "python",
   "pygments_lexer": "ipython3",
   "version": "3.8.2"
  }
 },
 "nbformat": 4,
 "nbformat_minor": 2
}
